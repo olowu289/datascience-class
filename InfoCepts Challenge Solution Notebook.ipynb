{
 "cells": [
  {
   "cell_type": "markdown",
   "metadata": {},
   "source": [
    "## InfoCepts Data Engineering Solution\n",
    "#### By Arkadeepta Roy (@arcat_)"
   ]
  },
  {
   "cell_type": "code",
   "execution_count": 19,
   "metadata": {},
   "outputs": [],
   "source": [
    "import pandas as pd\n",
    "import numpy as np\n",
    "from datetime import datetime"
   ]
  },
  {
   "cell_type": "code",
   "execution_count": 20,
   "metadata": {},
   "outputs": [],
   "source": [
    "df_file_location=\"./infocept_xml_data_.xml\"\n",
    "df = pd.read_xml(df_file_location)  "
   ]
  },
  {
   "cell_type": "code",
   "execution_count": 21,
   "metadata": {},
   "outputs": [
    {
     "data": {
      "text/html": [
       "<div>\n",
       "<style scoped>\n",
       "    .dataframe tbody tr th:only-of-type {\n",
       "        vertical-align: middle;\n",
       "    }\n",
       "\n",
       "    .dataframe tbody tr th {\n",
       "        vertical-align: top;\n",
       "    }\n",
       "\n",
       "    .dataframe thead th {\n",
       "        text-align: right;\n",
       "    }\n",
       "</style>\n",
       "<table border=\"1\" class=\"dataframe\">\n",
       "  <thead>\n",
       "    <tr style=\"text-align: right;\">\n",
       "      <th></th>\n",
       "      <th>index</th>\n",
       "      <th>user_session</th>\n",
       "      <th>total_clicks</th>\n",
       "      <th>total_items</th>\n",
       "      <th>total_cats</th>\n",
       "      <th>max_dwell</th>\n",
       "      <th>mean_dwell</th>\n",
       "      <th>total_duration</th>\n",
       "      <th>click_rate</th>\n",
       "      <th>day_of_week</th>\n",
       "      <th>...</th>\n",
       "      <th>cat_most_viewed</th>\n",
       "      <th>prod_most_viewed_n_times</th>\n",
       "      <th>prod_most_viewed</th>\n",
       "      <th>cat_views_freqs</th>\n",
       "      <th>prod_views_freqs</th>\n",
       "      <th>cat_buys_freqs</th>\n",
       "      <th>prod_buys_freqs</th>\n",
       "      <th>is_purchase</th>\n",
       "      <th>start_time_ts</th>\n",
       "      <th>end_time_ts</th>\n",
       "    </tr>\n",
       "  </thead>\n",
       "  <tbody>\n",
       "    <tr>\n",
       "      <th>0</th>\n",
       "      <td>0</td>\n",
       "      <td>8b69208e-7c64-422d-b670-5b9d82d25606</td>\n",
       "      <td>7</td>\n",
       "      <td>2</td>\n",
       "      <td>1</td>\n",
       "      <td>0.511508</td>\n",
       "      <td>5.995878</td>\n",
       "      <td>166.711175</td>\n",
       "      <td>0.072524</td>\n",
       "      <td>1</td>\n",
       "      <td>...</td>\n",
       "      <td>2053013560982667520</td>\n",
       "      <td>1.0</td>\n",
       "      <td>1030297</td>\n",
       "      <td>0.267802</td>\n",
       "      <td>0.000945</td>\n",
       "      <td>2.337402e-01</td>\n",
       "      <td>0.000690</td>\n",
       "      <td>0</td>\n",
       "      <td>October 07, 2019 Monday, 00:08:28</td>\n",
       "      <td>October 26, 2019 Saturday, 16:08:29</td>\n",
       "    </tr>\n",
       "    <tr>\n",
       "      <th>1</th>\n",
       "      <td>1</td>\n",
       "      <td>8068596c-a2b8-46ca-8791-e10d70520a1f</td>\n",
       "      <td>7</td>\n",
       "      <td>2</td>\n",
       "      <td>1</td>\n",
       "      <td>7.626576</td>\n",
       "      <td>3.529165</td>\n",
       "      <td>0.434185</td>\n",
       "      <td>0.204248</td>\n",
       "      <td>0</td>\n",
       "      <td>...</td>\n",
       "      <td>2053013602328876544</td>\n",
       "      <td>1.0</td>\n",
       "      <td>36083228</td>\n",
       "      <td>0.140925</td>\n",
       "      <td>0.000946</td>\n",
       "      <td>4.550292e-01</td>\n",
       "      <td>0.000690</td>\n",
       "      <td>0</td>\n",
       "      <td>October 01, 2019 Tuesday, 15:08:40</td>\n",
       "      <td>October 15, 2019 Tuesday, 20:03:18</td>\n",
       "    </tr>\n",
       "    <tr>\n",
       "      <th>2</th>\n",
       "      <td>2</td>\n",
       "      <td>4d153217-e06d-4581-8924-702c7f757610</td>\n",
       "      <td>2</td>\n",
       "      <td>22</td>\n",
       "      <td>1</td>\n",
       "      <td>3.095637</td>\n",
       "      <td>180.977516</td>\n",
       "      <td>0.935320</td>\n",
       "      <td>0.045982</td>\n",
       "      <td>4</td>\n",
       "      <td>...</td>\n",
       "      <td>2175094838038844672</td>\n",
       "      <td>2.0</td>\n",
       "      <td>1002263</td>\n",
       "      <td>0.000294</td>\n",
       "      <td>0.000945</td>\n",
       "      <td>9.102017e-08</td>\n",
       "      <td>0.000690</td>\n",
       "      <td>0</td>\n",
       "      <td>October 14, 2019 Monday, 21:17:24</td>\n",
       "      <td>October 23, 2019 Wednesday, 21:56:30</td>\n",
       "    </tr>\n",
       "    <tr>\n",
       "      <th>3</th>\n",
       "      <td>3</td>\n",
       "      <td>e65a6869-fb45-4f34-8482-c80278676d0f</td>\n",
       "      <td>2</td>\n",
       "      <td>2</td>\n",
       "      <td>1</td>\n",
       "      <td>1.089128</td>\n",
       "      <td>4.338280</td>\n",
       "      <td>0.417055</td>\n",
       "      <td>0.028476</td>\n",
       "      <td>0</td>\n",
       "      <td>...</td>\n",
       "      <td>2053013568140556288</td>\n",
       "      <td>3.0</td>\n",
       "      <td>1003257</td>\n",
       "      <td>0.150107</td>\n",
       "      <td>0.000945</td>\n",
       "      <td>4.550279e-01</td>\n",
       "      <td>0.000739</td>\n",
       "      <td>0</td>\n",
       "      <td>October 05, 2019 Saturday, 21:54:13</td>\n",
       "      <td>October 17, 2019 Thursday, 13:54:29</td>\n",
       "    </tr>\n",
       "    <tr>\n",
       "      <th>4</th>\n",
       "      <td>4</td>\n",
       "      <td>d8206742-06d7-42a2-8163-d70f9dd6cb18</td>\n",
       "      <td>5</td>\n",
       "      <td>1</td>\n",
       "      <td>1</td>\n",
       "      <td>0.329814</td>\n",
       "      <td>3.180891</td>\n",
       "      <td>2.485720</td>\n",
       "      <td>0.094812</td>\n",
       "      <td>5</td>\n",
       "      <td>...</td>\n",
       "      <td>2053013558410492160</td>\n",
       "      <td>1.0</td>\n",
       "      <td>13728056</td>\n",
       "      <td>0.267784</td>\n",
       "      <td>0.000945</td>\n",
       "      <td>4.550284e-01</td>\n",
       "      <td>0.000690</td>\n",
       "      <td>0</td>\n",
       "      <td>October 09, 2019 Wednesday, 13:33:22</td>\n",
       "      <td>October 29, 2019 Tuesday, 11:51:04</td>\n",
       "    </tr>\n",
       "  </tbody>\n",
       "</table>\n",
       "<p>5 rows × 24 columns</p>\n",
       "</div>"
      ],
      "text/plain": [
       "   index                          user_session  total_clicks  total_items  \\\n",
       "0      0  8b69208e-7c64-422d-b670-5b9d82d25606             7            2   \n",
       "1      1  8068596c-a2b8-46ca-8791-e10d70520a1f             7            2   \n",
       "2      2  4d153217-e06d-4581-8924-702c7f757610             2           22   \n",
       "3      3  e65a6869-fb45-4f34-8482-c80278676d0f             2            2   \n",
       "4      4  d8206742-06d7-42a2-8163-d70f9dd6cb18             5            1   \n",
       "\n",
       "   total_cats  max_dwell  mean_dwell  total_duration  click_rate  day_of_week  \\\n",
       "0           1   0.511508    5.995878      166.711175    0.072524            1   \n",
       "1           1   7.626576    3.529165        0.434185    0.204248            0   \n",
       "2           1   3.095637  180.977516        0.935320    0.045982            4   \n",
       "3           1   1.089128    4.338280        0.417055    0.028476            0   \n",
       "4           1   0.329814    3.180891        2.485720    0.094812            5   \n",
       "\n",
       "   ...      cat_most_viewed  prod_most_viewed_n_times  prod_most_viewed  \\\n",
       "0  ...  2053013560982667520                       1.0           1030297   \n",
       "1  ...  2053013602328876544                       1.0          36083228   \n",
       "2  ...  2175094838038844672                       2.0           1002263   \n",
       "3  ...  2053013568140556288                       3.0           1003257   \n",
       "4  ...  2053013558410492160                       1.0          13728056   \n",
       "\n",
       "   cat_views_freqs  prod_views_freqs  cat_buys_freqs  prod_buys_freqs  \\\n",
       "0         0.267802          0.000945    2.337402e-01         0.000690   \n",
       "1         0.140925          0.000946    4.550292e-01         0.000690   \n",
       "2         0.000294          0.000945    9.102017e-08         0.000690   \n",
       "3         0.150107          0.000945    4.550279e-01         0.000739   \n",
       "4         0.267784          0.000945    4.550284e-01         0.000690   \n",
       "\n",
       "   is_purchase                         start_time_ts  \\\n",
       "0            0     October 07, 2019 Monday, 00:08:28   \n",
       "1            0    October 01, 2019 Tuesday, 15:08:40   \n",
       "2            0     October 14, 2019 Monday, 21:17:24   \n",
       "3            0   October 05, 2019 Saturday, 21:54:13   \n",
       "4            0  October 09, 2019 Wednesday, 13:33:22   \n",
       "\n",
       "                            end_time_ts  \n",
       "0   October 26, 2019 Saturday, 16:08:29  \n",
       "1    October 15, 2019 Tuesday, 20:03:18  \n",
       "2  October 23, 2019 Wednesday, 21:56:30  \n",
       "3   October 17, 2019 Thursday, 13:54:29  \n",
       "4    October 29, 2019 Tuesday, 11:51:04  \n",
       "\n",
       "[5 rows x 24 columns]"
      ]
     },
     "execution_count": 21,
     "metadata": {},
     "output_type": "execute_result"
    }
   ],
   "source": [
    "df.head(5)"
   ]
  },
  {
   "cell_type": "code",
   "execution_count": 22,
   "metadata": {},
   "outputs": [
    {
     "name": "stdout",
     "output_type": "stream",
     "text": [
      "<class 'pandas.core.frame.DataFrame'>\n",
      "RangeIndex: 500000 entries, 0 to 499999\n",
      "Data columns (total 24 columns):\n",
      " #   Column                    Non-Null Count   Dtype  \n",
      "---  ------                    --------------   -----  \n",
      " 0   index                     500000 non-null  int64  \n",
      " 1   user_session              500000 non-null  object \n",
      " 2   total_clicks              500000 non-null  int64  \n",
      " 3   total_items               500000 non-null  int64  \n",
      " 4   total_cats                500000 non-null  int64  \n",
      " 5   max_dwell                 500000 non-null  float64\n",
      " 6   mean_dwell                500000 non-null  float64\n",
      " 7   total_duration            500000 non-null  float64\n",
      " 8   click_rate                500000 non-null  float64\n",
      " 9   day_of_week               500000 non-null  int64  \n",
      " 10  is_weekend                500000 non-null  int64  \n",
      " 11  is_special_day            500000 non-null  int64  \n",
      " 12  time_of_day               500000 non-null  int64  \n",
      " 13  cat_most_viewed_n_times   500000 non-null  float64\n",
      " 14  cat_most_viewed           500000 non-null  int64  \n",
      " 15  prod_most_viewed_n_times  500000 non-null  float64\n",
      " 16  prod_most_viewed          500000 non-null  int64  \n",
      " 17  cat_views_freqs           500000 non-null  float64\n",
      " 18  prod_views_freqs          500000 non-null  float64\n",
      " 19  cat_buys_freqs            500000 non-null  float64\n",
      " 20  prod_buys_freqs           500000 non-null  float64\n",
      " 21  is_purchase               500000 non-null  int64  \n",
      " 22  start_time_ts             500000 non-null  object \n",
      " 23  end_time_ts               500000 non-null  object \n",
      "dtypes: float64(10), int64(11), object(3)\n",
      "memory usage: 91.6+ MB\n"
     ]
    }
   ],
   "source": [
    "df.info()"
   ]
  },
  {
   "cell_type": "code",
   "execution_count": 23,
   "metadata": {},
   "outputs": [
    {
     "data": {
      "text/plain": [
       "index                       0\n",
       "user_session                0\n",
       "total_clicks                0\n",
       "total_items                 0\n",
       "total_cats                  0\n",
       "max_dwell                   0\n",
       "mean_dwell                  0\n",
       "total_duration              0\n",
       "click_rate                  0\n",
       "day_of_week                 0\n",
       "is_weekend                  0\n",
       "is_special_day              0\n",
       "time_of_day                 0\n",
       "cat_most_viewed_n_times     0\n",
       "cat_most_viewed             0\n",
       "prod_most_viewed_n_times    0\n",
       "prod_most_viewed            0\n",
       "cat_views_freqs             0\n",
       "prod_views_freqs            0\n",
       "cat_buys_freqs              0\n",
       "prod_buys_freqs             0\n",
       "is_purchase                 0\n",
       "start_time_ts               0\n",
       "end_time_ts                 0\n",
       "dtype: int64"
      ]
     },
     "execution_count": 23,
     "metadata": {},
     "output_type": "execute_result"
    }
   ],
   "source": [
    "df.isnull().sum()"
   ]
  },
  {
   "cell_type": "markdown",
   "metadata": {},
   "source": [
    "#### We can see that there are no null values in the dataset. We can proceed for further exploration"
   ]
  },
  {
   "cell_type": "code",
   "execution_count": 24,
   "metadata": {},
   "outputs": [
    {
     "data": {
      "text/plain": [
       "5    260104\n",
       "0    126565\n",
       "1     42915\n",
       "3     24829\n",
       "4     19270\n",
       "2     17302\n",
       "6      9015\n",
       "Name: day_of_week, dtype: int64"
      ]
     },
     "execution_count": 24,
     "metadata": {},
     "output_type": "execute_result"
    }
   ],
   "source": [
    "df.day_of_week.value_counts()"
   ]
  },
  {
   "cell_type": "markdown",
   "metadata": {},
   "source": [
    "#### Sunday and Friday have the most records."
   ]
  },
  {
   "cell_type": "markdown",
   "metadata": {},
   "source": [
    "## Dataframe for submission"
   ]
  },
  {
   "cell_type": "code",
   "execution_count": 25,
   "metadata": {},
   "outputs": [],
   "source": [
    "sample_solution_file_location=\"./infocept_submission.csv\"\n",
    "sol_df = pd.read_csv(sample_solution_file_location)"
   ]
  },
  {
   "cell_type": "markdown",
   "metadata": {},
   "source": [
    "#### Pre processing : Adding columns which have no changes in the new df\n",
    "##### 'is_special_day', 'prod_views_freqs' and 'prod_buys_freqs' columns."
   ]
  },
  {
   "cell_type": "code",
   "execution_count": 26,
   "metadata": {},
   "outputs": [],
   "source": [
    "# sol_df['is_special_day'] = df['is_special_day']\n",
    "# sol_df['prod_views_freqs'] = df['prod_views_freqs']\n",
    "# sol_df['prod_buys_freqs'] = df['prod_buys_freqs']"
   ]
  },
  {
   "cell_type": "markdown",
   "metadata": {},
   "source": [
    "#### 1. Process the \"start_time_ts\" column to create \"time_spec_points\" column. Allot exact points equaling the time of the day the user is surfing, but allot extra 5 points if they are surfing after 4 o clock in the afternoon. For example: If the user starts surfing at 9 o clock in the morning allot 9 points, but user surfing after 4 o clock in the afternoon will receive 21 points."
   ]
  },
  {
   "cell_type": "code",
   "execution_count": 27,
   "metadata": {},
   "outputs": [],
   "source": [
    "def calculate_time_points(row):  \n",
    "    points = pd.to_datetime(row).hour\n",
    "    if points >= 16:\n",
    "        points += 5\n",
    "    return points\n",
    " \n",
    "sol_df[\"time_spec_points\"] = df[\"start_time_ts\"].apply(lambda val: calculate_time_points(val)) "
   ]
  },
  {
   "cell_type": "markdown",
   "metadata": {},
   "source": [
    "#### 2. Reduce the \"total_duration\" round to 2 decimal places: example (166.711175 -> 166.71) (0.935320 -> 0.94)"
   ]
  },
  {
   "cell_type": "code",
   "execution_count": 28,
   "metadata": {},
   "outputs": [],
   "source": [
    "sol_df[\"total_duration\"] = df[\"total_duration\"].apply(lambda val: round(val, 2))"
   ]
  },
  {
   "cell_type": "markdown",
   "metadata": {},
   "source": [
    "#### 3.  Add the values of columns  \"total_clicks\", \"total_items\", \"total_cats\" to create a new column: \"total_inventory\". If the value \"total_inventory\" is greater than 10, then make sure the value is increased by 100%."
   ]
  },
  {
   "cell_type": "code",
   "execution_count": 29,
   "metadata": {},
   "outputs": [],
   "source": [
    "def calculate_total_inventory(row):  \n",
    "    total_inventory = row[\"total_clicks\"] + row[\"total_items\"] + row[\"total_cats\"]\n",
    "    if total_inventory > 10:\n",
    "        total_inventory *=2\n",
    "    return total_inventory\n",
    "sol_df[\"total_inventory\"] = df.apply(lambda row: calculate_total_inventory(row),axis=1) "
   ]
  },
  {
   "cell_type": "markdown",
   "metadata": {},
   "source": [
    "#### 4. Create a new column \"give_big_discount\". The value of '\"give_big_discount\" should be 1 if day_of_week is 0 and is_special_day is 1, otherwise 0."
   ]
  },
  {
   "cell_type": "code",
   "execution_count": 30,
   "metadata": {},
   "outputs": [],
   "source": [
    "sol_df[\"give_big_discount\"] = df.apply(lambda row: 1 if row[\"day_of_week\"] == 0 and row[\"is_special_day\"] == 1 else 0, axis=1) "
   ]
  },
  {
   "cell_type": "markdown",
   "metadata": {},
   "source": [
    "#### 5. Create a new column prod_views_buys_ratio which should be a ratio of prod_views_freqs and prod_buys_freqs"
   ]
  },
  {
   "cell_type": "code",
   "execution_count": 31,
   "metadata": {},
   "outputs": [],
   "source": [
    "sol_df[\"prod_views_buys_ratio\"] = df.apply(lambda row: round(row[\"prod_views_freqs\"] / row[\"prod_buys_freqs\"],2), axis=1) "
   ]
  },
  {
   "cell_type": "markdown",
   "metadata": {},
   "source": [
    "#### 6. Create a new column create loyalty_points which should be calculated based on the following conditions: if a user is spending more than 3 seconds on a Sunday -- and loyalty points score will be 10 multiplied seconds over 3. "
   ]
  },
  {
   "cell_type": "code",
   "execution_count": 32,
   "metadata": {},
   "outputs": [],
   "source": [
    "def calculate_loyalty_points(row):  \n",
    "    loyalty_points = 0\n",
    "    if row[\"day_of_week\"] == 0 and row[\"total_duration\"] > 3:\n",
    "        loyalty_points = 10*(row[\"total_duration\"] - 3)\n",
    "    return round(loyalty_points,2)\n",
    " \n",
    "sol_df[\"loyalty_points\"] = df.apply(lambda row: calculate_loyalty_points(row), axis=1) "
   ]
  },
  {
   "cell_type": "markdown",
   "metadata": {},
   "source": [
    "#### 7. Check the submission file for column details."
   ]
  },
  {
   "cell_type": "code",
   "execution_count": 33,
   "metadata": {},
   "outputs": [
    {
     "data": {
      "text/html": [
       "<div>\n",
       "<style scoped>\n",
       "    .dataframe tbody tr th:only-of-type {\n",
       "        vertical-align: middle;\n",
       "    }\n",
       "\n",
       "    .dataframe tbody tr th {\n",
       "        vertical-align: top;\n",
       "    }\n",
       "\n",
       "    .dataframe thead th {\n",
       "        text-align: right;\n",
       "    }\n",
       "</style>\n",
       "<table border=\"1\" class=\"dataframe\">\n",
       "  <thead>\n",
       "    <tr style=\"text-align: right;\">\n",
       "      <th></th>\n",
       "      <th>total_duration</th>\n",
       "      <th>is_special_day</th>\n",
       "      <th>prod_views_freqs</th>\n",
       "      <th>prod_buys_freqs</th>\n",
       "      <th>give_big_discount</th>\n",
       "      <th>prod_views_buys_ratio</th>\n",
       "      <th>loyalty_points</th>\n",
       "      <th>total_inventory</th>\n",
       "      <th>time_spec_points</th>\n",
       "    </tr>\n",
       "  </thead>\n",
       "  <tbody>\n",
       "    <tr>\n",
       "      <th>0</th>\n",
       "      <td>166.71</td>\n",
       "      <td>0</td>\n",
       "      <td>0</td>\n",
       "      <td>0</td>\n",
       "      <td>0</td>\n",
       "      <td>1.37</td>\n",
       "      <td>0.0</td>\n",
       "      <td>10</td>\n",
       "      <td>0</td>\n",
       "    </tr>\n",
       "    <tr>\n",
       "      <th>1</th>\n",
       "      <td>0.43</td>\n",
       "      <td>0</td>\n",
       "      <td>0</td>\n",
       "      <td>0</td>\n",
       "      <td>0</td>\n",
       "      <td>1.37</td>\n",
       "      <td>0.0</td>\n",
       "      <td>10</td>\n",
       "      <td>15</td>\n",
       "    </tr>\n",
       "    <tr>\n",
       "      <th>2</th>\n",
       "      <td>0.94</td>\n",
       "      <td>0</td>\n",
       "      <td>0</td>\n",
       "      <td>0</td>\n",
       "      <td>0</td>\n",
       "      <td>1.37</td>\n",
       "      <td>0.0</td>\n",
       "      <td>50</td>\n",
       "      <td>26</td>\n",
       "    </tr>\n",
       "    <tr>\n",
       "      <th>3</th>\n",
       "      <td>0.42</td>\n",
       "      <td>0</td>\n",
       "      <td>0</td>\n",
       "      <td>0</td>\n",
       "      <td>0</td>\n",
       "      <td>1.28</td>\n",
       "      <td>0.0</td>\n",
       "      <td>5</td>\n",
       "      <td>26</td>\n",
       "    </tr>\n",
       "    <tr>\n",
       "      <th>4</th>\n",
       "      <td>2.49</td>\n",
       "      <td>0</td>\n",
       "      <td>0</td>\n",
       "      <td>0</td>\n",
       "      <td>0</td>\n",
       "      <td>1.37</td>\n",
       "      <td>0.0</td>\n",
       "      <td>7</td>\n",
       "      <td>13</td>\n",
       "    </tr>\n",
       "  </tbody>\n",
       "</table>\n",
       "</div>"
      ],
      "text/plain": [
       "   total_duration  is_special_day  prod_views_freqs  prod_buys_freqs  \\\n",
       "0          166.71               0                 0                0   \n",
       "1            0.43               0                 0                0   \n",
       "2            0.94               0                 0                0   \n",
       "3            0.42               0                 0                0   \n",
       "4            2.49               0                 0                0   \n",
       "\n",
       "   give_big_discount  prod_views_buys_ratio  loyalty_points  total_inventory  \\\n",
       "0                  0                   1.37             0.0               10   \n",
       "1                  0                   1.37             0.0               10   \n",
       "2                  0                   1.37             0.0               50   \n",
       "3                  0                   1.28             0.0                5   \n",
       "4                  0                   1.37             0.0                7   \n",
       "\n",
       "   time_spec_points  \n",
       "0                 0  \n",
       "1                15  \n",
       "2                26  \n",
       "3                26  \n",
       "4                13  "
      ]
     },
     "execution_count": 33,
     "metadata": {},
     "output_type": "execute_result"
    }
   ],
   "source": [
    "sol_df.head()"
   ]
  },
  {
   "cell_type": "code",
   "execution_count": 34,
   "metadata": {},
   "outputs": [
    {
     "data": {
      "text/html": [
       "<div>\n",
       "<style scoped>\n",
       "    .dataframe tbody tr th:only-of-type {\n",
       "        vertical-align: middle;\n",
       "    }\n",
       "\n",
       "    .dataframe tbody tr th {\n",
       "        vertical-align: top;\n",
       "    }\n",
       "\n",
       "    .dataframe thead th {\n",
       "        text-align: right;\n",
       "    }\n",
       "</style>\n",
       "<table border=\"1\" class=\"dataframe\">\n",
       "  <thead>\n",
       "    <tr style=\"text-align: right;\">\n",
       "      <th></th>\n",
       "      <th>total_duration</th>\n",
       "      <th>is_special_day</th>\n",
       "      <th>prod_views_freqs</th>\n",
       "      <th>prod_buys_freqs</th>\n",
       "      <th>give_big_discount</th>\n",
       "      <th>prod_views_buys_ratio</th>\n",
       "      <th>loyalty_points</th>\n",
       "      <th>total_inventory</th>\n",
       "      <th>time_spec_points</th>\n",
       "    </tr>\n",
       "  </thead>\n",
       "  <tbody>\n",
       "    <tr>\n",
       "      <th>499995</th>\n",
       "      <td>0.22</td>\n",
       "      <td>0</td>\n",
       "      <td>0</td>\n",
       "      <td>0</td>\n",
       "      <td>0</td>\n",
       "      <td>1.37</td>\n",
       "      <td>0.0</td>\n",
       "      <td>10</td>\n",
       "      <td>21</td>\n",
       "    </tr>\n",
       "    <tr>\n",
       "      <th>499996</th>\n",
       "      <td>6.56</td>\n",
       "      <td>0</td>\n",
       "      <td>0</td>\n",
       "      <td>0</td>\n",
       "      <td>0</td>\n",
       "      <td>1.37</td>\n",
       "      <td>0.0</td>\n",
       "      <td>5</td>\n",
       "      <td>6</td>\n",
       "    </tr>\n",
       "    <tr>\n",
       "      <th>499997</th>\n",
       "      <td>0.02</td>\n",
       "      <td>0</td>\n",
       "      <td>0</td>\n",
       "      <td>0</td>\n",
       "      <td>0</td>\n",
       "      <td>1.39</td>\n",
       "      <td>0.0</td>\n",
       "      <td>10</td>\n",
       "      <td>9</td>\n",
       "    </tr>\n",
       "    <tr>\n",
       "      <th>499998</th>\n",
       "      <td>0.02</td>\n",
       "      <td>0</td>\n",
       "      <td>0</td>\n",
       "      <td>0</td>\n",
       "      <td>0</td>\n",
       "      <td>1.37</td>\n",
       "      <td>0.0</td>\n",
       "      <td>7</td>\n",
       "      <td>23</td>\n",
       "    </tr>\n",
       "    <tr>\n",
       "      <th>499999</th>\n",
       "      <td>0.02</td>\n",
       "      <td>0</td>\n",
       "      <td>0</td>\n",
       "      <td>0</td>\n",
       "      <td>0</td>\n",
       "      <td>1.39</td>\n",
       "      <td>0.0</td>\n",
       "      <td>6</td>\n",
       "      <td>3</td>\n",
       "    </tr>\n",
       "  </tbody>\n",
       "</table>\n",
       "</div>"
      ],
      "text/plain": [
       "        total_duration  is_special_day  prod_views_freqs  prod_buys_freqs  \\\n",
       "499995            0.22               0                 0                0   \n",
       "499996            6.56               0                 0                0   \n",
       "499997            0.02               0                 0                0   \n",
       "499998            0.02               0                 0                0   \n",
       "499999            0.02               0                 0                0   \n",
       "\n",
       "        give_big_discount  prod_views_buys_ratio  loyalty_points  \\\n",
       "499995                  0                   1.37             0.0   \n",
       "499996                  0                   1.37             0.0   \n",
       "499997                  0                   1.39             0.0   \n",
       "499998                  0                   1.37             0.0   \n",
       "499999                  0                   1.39             0.0   \n",
       "\n",
       "        total_inventory  time_spec_points  \n",
       "499995               10                21  \n",
       "499996                5                 6  \n",
       "499997               10                 9  \n",
       "499998                7                23  \n",
       "499999                6                 3  "
      ]
     },
     "execution_count": 34,
     "metadata": {},
     "output_type": "execute_result"
    }
   ],
   "source": [
    "sol_df.tail()"
   ]
  },
  {
   "cell_type": "markdown",
   "metadata": {},
   "source": [
    "### Submission"
   ]
  },
  {
   "cell_type": "code",
   "execution_count": 35,
   "metadata": {},
   "outputs": [],
   "source": [
    "now = datetime.now()\n",
    "dt_string = now.strftime(\"_%d%m%Y_%H%M%S\")"
   ]
  },
  {
   "cell_type": "code",
   "execution_count": 36,
   "metadata": {},
   "outputs": [],
   "source": [
    "sol_df.to_csv('infocept_solution_'+dt_string+'.csv', index=False, header=True)  "
   ]
  },
  {
   "cell_type": "code",
   "execution_count": null,
   "metadata": {},
   "outputs": [],
   "source": []
  }
 ],
 "metadata": {
  "kernelspec": {
   "display_name": "Python 3 (ipykernel)",
   "language": "python",
   "name": "python3"
  },
  "language_info": {
   "codemirror_mode": {
    "name": "ipython",
    "version": 3
   },
   "file_extension": ".py",
   "mimetype": "text/x-python",
   "name": "python",
   "nbconvert_exporter": "python",
   "pygments_lexer": "ipython3",
   "version": "3.9.12"
  }
 },
 "nbformat": 4,
 "nbformat_minor": 2
}
